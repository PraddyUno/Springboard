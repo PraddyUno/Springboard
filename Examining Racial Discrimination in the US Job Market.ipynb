{
 "cells": [
  {
   "cell_type": "markdown",
   "metadata": {},
   "source": [
    "# Examining Racial Discrimination in the US Job Market\n",
    "\n",
    "### Background\n",
    "Racial discrimination continues to be pervasive in cultures throughout the world. Researchers examined the level of racial discrimination in the United States labor market by randomly assigning identical résumés to black-sounding or white-sounding names and observing the impact on requests for interviews from employers.\n",
    "\n",
    "### Data\n",
    "In the dataset provided, each row represents a resume. The 'race' column has two values, 'b' and 'w', indicating black-sounding and white-sounding. The column 'call' has two values, 1 and 0, indicating whether the resume received a call from employers or not.\n",
    "\n",
    "Note that the 'b' and 'w' values in race are assigned randomly to the resumes when presented to the employer."
   ]
  },
  {
   "cell_type": "markdown",
   "metadata": {},
   "source": [
    "### Exercises\n",
    "You will perform a statistical analysis to establish whether race has a significant impact on the rate of callbacks for resumes.\n",
    "\n",
    "Answer the following questions **in this notebook below and submit to your Github account**. \n",
    "\n",
    "   1. What test is appropriate for this problem? Does CLT apply?\n",
    "   2. What are the null and alternate hypotheses?\n",
    "   3. Compute margin of error, confidence interval, and p-value. Try using both the bootstrapping and the frequentist statistical approaches.\n",
    "   4. Write a story describing the statistical significance in the context or the original problem.\n",
    "   5. Does your analysis mean that race/name is the most important factor in callback success? Why or why not? If not, how would you amend your analysis?\n",
    "\n",
    "You can include written notes in notebook cells using Markdown: \n",
    "   - In the control panel at the top, choose Cell > Cell Type > Markdown\n",
    "   - Markdown syntax: http://nestacms.com/docs/creating-content/markdown-cheat-sheet\n",
    "\n",
    "#### Resources\n",
    "+ Experiment information and data source: http://www.povertyactionlab.org/evaluation/discrimination-job-market-united-states\n",
    "+ Scipy statistical methods: http://docs.scipy.org/doc/scipy/reference/stats.html \n",
    "+ Markdown syntax: http://nestacms.com/docs/creating-content/markdown-cheat-sheet\n",
    "+ Formulas for the Bernoulli distribution: https://en.wikipedia.org/wiki/Bernoulli_distribution"
   ]
  },
  {
   "cell_type": "code",
   "execution_count": 75,
   "metadata": {},
   "outputs": [],
   "source": [
    "import pandas as pd\n",
    "import numpy as np\n",
    "from scipy import stats\n",
    "import matplotlib.pyplot as plt\n",
    "import seaborn as sns\n",
    "sns.set_context(\"notebook\", font_scale=1.5, rc={\"lines.linewidth\": 2.5})\n",
    "\n",
    "import warnings\n",
    "warnings.filterwarnings('ignore')"
   ]
  },
  {
   "cell_type": "code",
   "execution_count": 42,
   "metadata": {},
   "outputs": [],
   "source": [
    "data = pd.io.stata.read_stata('data/us_job_market_discrimination.dta')"
   ]
  },
  {
   "cell_type": "code",
   "execution_count": 44,
   "metadata": {},
   "outputs": [
    {
     "data": {
      "text/html": [
       "<div>\n",
       "<style scoped>\n",
       "    .dataframe tbody tr th:only-of-type {\n",
       "        vertical-align: middle;\n",
       "    }\n",
       "\n",
       "    .dataframe tbody tr th {\n",
       "        vertical-align: top;\n",
       "    }\n",
       "\n",
       "    .dataframe thead th {\n",
       "        text-align: right;\n",
       "    }\n",
       "</style>\n",
       "<table border=\"1\" class=\"dataframe\">\n",
       "  <thead>\n",
       "    <tr style=\"text-align: right;\">\n",
       "      <th></th>\n",
       "      <th>id</th>\n",
       "      <th>ad</th>\n",
       "      <th>education</th>\n",
       "      <th>ofjobs</th>\n",
       "      <th>yearsexp</th>\n",
       "      <th>honors</th>\n",
       "      <th>volunteer</th>\n",
       "      <th>military</th>\n",
       "      <th>empholes</th>\n",
       "      <th>occupspecific</th>\n",
       "      <th>...</th>\n",
       "      <th>compreq</th>\n",
       "      <th>orgreq</th>\n",
       "      <th>manuf</th>\n",
       "      <th>transcom</th>\n",
       "      <th>bankreal</th>\n",
       "      <th>trade</th>\n",
       "      <th>busservice</th>\n",
       "      <th>othservice</th>\n",
       "      <th>missind</th>\n",
       "      <th>ownership</th>\n",
       "    </tr>\n",
       "  </thead>\n",
       "  <tbody>\n",
       "    <tr>\n",
       "      <th>0</th>\n",
       "      <td>b</td>\n",
       "      <td>1</td>\n",
       "      <td>4</td>\n",
       "      <td>2</td>\n",
       "      <td>6</td>\n",
       "      <td>0</td>\n",
       "      <td>0</td>\n",
       "      <td>0</td>\n",
       "      <td>1</td>\n",
       "      <td>17</td>\n",
       "      <td>...</td>\n",
       "      <td>1.0</td>\n",
       "      <td>0.0</td>\n",
       "      <td>1.0</td>\n",
       "      <td>0.0</td>\n",
       "      <td>0.0</td>\n",
       "      <td>0.0</td>\n",
       "      <td>0.0</td>\n",
       "      <td>0.0</td>\n",
       "      <td>0.0</td>\n",
       "      <td></td>\n",
       "    </tr>\n",
       "    <tr>\n",
       "      <th>1</th>\n",
       "      <td>b</td>\n",
       "      <td>1</td>\n",
       "      <td>3</td>\n",
       "      <td>3</td>\n",
       "      <td>6</td>\n",
       "      <td>0</td>\n",
       "      <td>1</td>\n",
       "      <td>1</td>\n",
       "      <td>0</td>\n",
       "      <td>316</td>\n",
       "      <td>...</td>\n",
       "      <td>1.0</td>\n",
       "      <td>0.0</td>\n",
       "      <td>1.0</td>\n",
       "      <td>0.0</td>\n",
       "      <td>0.0</td>\n",
       "      <td>0.0</td>\n",
       "      <td>0.0</td>\n",
       "      <td>0.0</td>\n",
       "      <td>0.0</td>\n",
       "      <td></td>\n",
       "    </tr>\n",
       "    <tr>\n",
       "      <th>2</th>\n",
       "      <td>b</td>\n",
       "      <td>1</td>\n",
       "      <td>4</td>\n",
       "      <td>1</td>\n",
       "      <td>6</td>\n",
       "      <td>0</td>\n",
       "      <td>0</td>\n",
       "      <td>0</td>\n",
       "      <td>0</td>\n",
       "      <td>19</td>\n",
       "      <td>...</td>\n",
       "      <td>1.0</td>\n",
       "      <td>0.0</td>\n",
       "      <td>1.0</td>\n",
       "      <td>0.0</td>\n",
       "      <td>0.0</td>\n",
       "      <td>0.0</td>\n",
       "      <td>0.0</td>\n",
       "      <td>0.0</td>\n",
       "      <td>0.0</td>\n",
       "      <td></td>\n",
       "    </tr>\n",
       "    <tr>\n",
       "      <th>3</th>\n",
       "      <td>b</td>\n",
       "      <td>1</td>\n",
       "      <td>3</td>\n",
       "      <td>4</td>\n",
       "      <td>6</td>\n",
       "      <td>0</td>\n",
       "      <td>1</td>\n",
       "      <td>0</td>\n",
       "      <td>1</td>\n",
       "      <td>313</td>\n",
       "      <td>...</td>\n",
       "      <td>1.0</td>\n",
       "      <td>0.0</td>\n",
       "      <td>1.0</td>\n",
       "      <td>0.0</td>\n",
       "      <td>0.0</td>\n",
       "      <td>0.0</td>\n",
       "      <td>0.0</td>\n",
       "      <td>0.0</td>\n",
       "      <td>0.0</td>\n",
       "      <td></td>\n",
       "    </tr>\n",
       "    <tr>\n",
       "      <th>4</th>\n",
       "      <td>b</td>\n",
       "      <td>1</td>\n",
       "      <td>3</td>\n",
       "      <td>3</td>\n",
       "      <td>22</td>\n",
       "      <td>0</td>\n",
       "      <td>0</td>\n",
       "      <td>0</td>\n",
       "      <td>0</td>\n",
       "      <td>313</td>\n",
       "      <td>...</td>\n",
       "      <td>1.0</td>\n",
       "      <td>1.0</td>\n",
       "      <td>0.0</td>\n",
       "      <td>0.0</td>\n",
       "      <td>0.0</td>\n",
       "      <td>0.0</td>\n",
       "      <td>0.0</td>\n",
       "      <td>1.0</td>\n",
       "      <td>0.0</td>\n",
       "      <td>Nonprofit</td>\n",
       "    </tr>\n",
       "  </tbody>\n",
       "</table>\n",
       "<p>5 rows × 65 columns</p>\n",
       "</div>"
      ],
      "text/plain": [
       "  id ad  education  ofjobs  yearsexp  honors  volunteer  military  empholes  \\\n",
       "0  b  1          4       2         6       0          0         0         1   \n",
       "1  b  1          3       3         6       0          1         1         0   \n",
       "2  b  1          4       1         6       0          0         0         0   \n",
       "3  b  1          3       4         6       0          1         0         1   \n",
       "4  b  1          3       3        22       0          0         0         0   \n",
       "\n",
       "   occupspecific    ...      compreq  orgreq  manuf  transcom  bankreal trade  \\\n",
       "0             17    ...          1.0     0.0    1.0       0.0       0.0   0.0   \n",
       "1            316    ...          1.0     0.0    1.0       0.0       0.0   0.0   \n",
       "2             19    ...          1.0     0.0    1.0       0.0       0.0   0.0   \n",
       "3            313    ...          1.0     0.0    1.0       0.0       0.0   0.0   \n",
       "4            313    ...          1.0     1.0    0.0       0.0       0.0   0.0   \n",
       "\n",
       "  busservice othservice  missind  ownership  \n",
       "0        0.0        0.0      0.0             \n",
       "1        0.0        0.0      0.0             \n",
       "2        0.0        0.0      0.0             \n",
       "3        0.0        0.0      0.0             \n",
       "4        0.0        1.0      0.0  Nonprofit  \n",
       "\n",
       "[5 rows x 65 columns]"
      ]
     },
     "execution_count": 44,
     "metadata": {},
     "output_type": "execute_result"
    }
   ],
   "source": [
    "data.head()"
   ]
  },
  {
   "cell_type": "code",
   "execution_count": 45,
   "metadata": {},
   "outputs": [
    {
     "name": "stdout",
     "output_type": "stream",
     "text": [
      "Total no of resumes:  4870\n",
      "Number of resumes with black-sounding names: 2435\n",
      "Number of callbacks for black-sounding names: 157.0\n",
      "Number of resumes with white-sounding names: 2435\n",
      "Number of callbacks for white-sounding names: 235.0\n"
     ]
    }
   ],
   "source": [
    "print('Total no of resumes: ', data.shape[0])\n",
    "print('Number of resumes with black-sounding names:', sum(data.race=='b'))\n",
    "print('Number of callbacks for black-sounding names:', sum(data[data.race=='b'].call))\n",
    "print('Number of resumes with white-sounding names:', sum(data.race=='w'))\n",
    "print('Number of callbacks for white-sounding names:', sum(data[data.race=='w'].call))"
   ]
  },
  {
   "cell_type": "code",
   "execution_count": 46,
   "metadata": {},
   "outputs": [
    {
     "data": {
      "image/png": "[encoded data removed]",
      "text/plain": [
       "<Figure size 864x504 with 1 Axes>"
      ]
     },
     "metadata": {},
     "output_type": "display_data"
    }
   ],
   "source": [
    "plt.figure(figsize=(12, 7))\n",
    "\n",
    "_ = sns.countplot('call', hue = 'race', data = data )\n",
    "_ = plt.xticks([0,1],['No','Yes'])\n",
    "_ = plt.xlabel('Callbacks')"
   ]
  },
  {
   "cell_type": "markdown",
   "metadata": {},
   "source": [
    "# Exploratory Data Analysis\n",
    "\n",
    "Before moviong forward let us understand the data we have. We have a random sample of 4,870 resumes, and 50% are black- \n",
    "and 50% are white-sounding names. \n",
    "Let a callback for each resume is considered a success and failure otherwise.\n",
    "Figure above shows the countplot of the callback data based on race.\n",
    "From the countplot it seems that number of resume with white-sounding names have higher success and lower failure counts\n",
    "copmared to resume with black-sounding names.\n",
    "\n",
    "So based on race we have two binomial distributions: one from black-sounding name resume and one for white-sounding name resume.\n"
   ]
  },
  {
   "cell_type": "code",
   "execution_count": 56,
   "metadata": {},
   "outputs": [
    {
     "name": "stdout",
     "output_type": "stream",
     "text": [
      "Success rate of black-sounding resume: 0.064\n",
      "Success rate of white-sounding resume: 0.097\n",
      "Overall success rate of sample: 0.080\n"
     ]
    }
   ],
   "source": [
    "# Success rate of black-sounding resume\n",
    "pb_sample = sum(data[data.race=='b'].call)/sum(data.race=='b')\n",
    "# Sucess rate of white-soubnding resume\n",
    "pw_sample = sum(data[data.race=='w'].call)/sum(data.race=='w')\n",
    "# Overall success rate of the whole sample\n",
    "p_sample = sum(data.call)/len(data.call)\n",
    "\n",
    "print('Success rate of black-sounding resume: %0.3f'% pb_sample)\n",
    "print('Success rate of white-sounding resume: %0.3f'% pw_sample)\n",
    "print('Overall success rate of sample: %0.3f'% p_sample)"
   ]
  },
  {
   "cell_type": "markdown",
   "metadata": {},
   "source": [
    "<div class=\"span5 alert alert-success\">\n",
    "<p>\n",
    "    \n",
    "# A/B Testing\n",
    "\n",
    "To study the impact of race on the callback rate we will consider the classic A/B test.\n",
    "\n",
    "We will study two independent samples (one sample with black-sounding names and one with white-sounding names).\n",
    "\n",
    "As shown above both samples have a binomial distribution B(nb,pb) and B(nw,pw) where (nb, pb) = (2435, 0.064) and (nw, pw) = (2435, 0.097)\n",
    "\n",
    "If we can prove that both samples satisfy the central limit theorem, we can assumes that both samples have normal probabality distribution :\n",
    "\n",
    "N(pb, pb(1-pb)/nb) and N(pw, pw(1-pw)/nw)\n",
    "\n",
    "\n",
    "\n",
    "# Central Limit Theorem\n",
    "\n",
    "Before proceeding with the analysis we first establish that the two data sets satisfy the CTl conditions:\n",
    "    \n",
    "1. Randomness: As stated in the introduction researchers randomly assigned identical résumés \n",
    "    to black-sounding or white-sounding names to observe the impact on requests for interviews from employers.\n",
    "    Thus we can safely assume that sample data is random.\n",
    "2. Normality: Since we are dealing with proportions as long as we have more than 10 success and failurs in both samples, we can assume that condition of normality is satisfied. This was already shown in countplot above thus second condition is also satisfied.\n",
    "3. Independence: Independence depends on the sample size. Considering the entire population of US with black-sounding and white-sounding names our sample of total size 4870 is really small (<10%) thus we can assume independence.\n",
    "\n",
    "\n",
    "### Since the samples satisfy the CLT we can compare the two samples as normal distributions.\n",
    "\n",
    "\n",
    "</p>\n",
    "</div>"
   ]
  },
  {
   "cell_type": "markdown",
   "metadata": {},
   "source": [
    "<div class=\"span5 alert alert-success\">\n",
    "<p>\n",
    "    \n",
    "### Null Hypothesis: \n",
    "\n",
    "Race (black- or white-sounding names) has no impact on the callbacks. In other words, Pb - Pw = 0\n",
    "\n",
    "### Alternate Hypothesis:\n",
    "\n",
    "Race has impact on the callbacks by employer. Pb != Pw\n",
    "\n",
    "#### For the A/B testing we will assume a significance level of 5% (0.05)\n",
    "\n",
    "Thus is the probability of getting the value (pw - pb) or farther from the (Pb - Pw), which is zero, is less than 0.05 we will reject the null hypothesis.\n",
    "\n",
    "Note that this is a two tailed test as apparent from the alternate hypothesis.\n",
    "\n",
    "</p>\n",
    "</div>"
   ]
  },
  {
   "cell_type": "code",
   "execution_count": 128,
   "metadata": {},
   "outputs": [],
   "source": [
    "# Sample data for white-sounding names\n",
    "w_data = data[data.race=='w'].call.values\n",
    "# Sample data for black-sounding names\n",
    "b_data = data[data.race=='b'].call.values\n",
    "# Significance level\n",
    "alpha = 0.05"
   ]
  },
  {
   "cell_type": "markdown",
   "metadata": {},
   "source": [
    "# Bootstrap Approach\n",
    "\n",
    "We draw about 10000 samples from each sample distributions.\n",
    "\n",
    "Note that since this is binomial distribution the mean is equal to proportion of sucess (p).\n",
    "\n",
    "Thus the function we pass when drawing the bootstrap samples is np.mean.\n",
    "\n",
    "Note that our null hypothesis is claiming that the mean (proportion of success) of the two sample distributions is same. We are not trying to prove that the both samples come from same population and the samples can have different standard deviations.\n",
    "\n",
    "To do the two-sample bootstrap test, we shift both arrays to have the same mean, since we are simulating the hypothesis that their means are, in fact, equal. We then draw bootstrap samples out of the shifted arrays and compute the difference in means. This constitutes a bootstrap replicate, and we generate many of them. The p-value is the fraction of replicates with a difference in means greater than or equal to what was observed.\n",
    "\n",
    "If the distribution of the bootstrap replicates(difference in mean here) is almost normal then 95% confidence is computed using the standard error and margin of error is twice the standard error.\n"
   ]
  },
  {
   "cell_type": "code",
   "execution_count": 59,
   "metadata": {},
   "outputs": [],
   "source": [
    "# Function to Draw bootstrap samples for simulations\n",
    "def draw_bs_reps(data, func, size=1):\n",
    "    \"\"\"\n",
    "    Draw bootstrap replicates.\n",
    "    input:\n",
    "    data = 1D array\n",
    "    func = function that computes the test statistics\n",
    "    size = # of simulations\n",
    "    output:\n",
    "    bs_replicates = test statistics from each simulation\n",
    "    \"\"\"\n",
    "    \n",
    "    # Initialize array of replicates: bs_replicates\n",
    "    bs_replicates = np.empty(size)\n",
    "\n",
    "    # Generate replicates\n",
    "    for i in range(size):\n",
    "        bs_replicates[i] = func(np.random.choice(data, size=len(data)))\n",
    "\n",
    "    return bs_replicates"
   ]
  },
  {
   "cell_type": "code",
   "execution_count": 83,
   "metadata": {},
   "outputs": [],
   "source": [
    "# Mean value of the whole sample\n",
    "\n",
    "mean_sample = np.mean(data.call.values)\n",
    "\n",
    "# Generate shifted arrays\n",
    "w_shifted = w_data - np.mean(w_data) + mean_sample\n",
    "b_shifted = b_data - np.mean(b_data) + mean_sample\n",
    "\n",
    "# Compute 10,000 bootstrap replicates from shifted arrays\n",
    "n_sim = 10000  \n",
    "\n",
    "bs_replicates_w = draw_bs_reps(w_shifted , np.mean, n_sim)\n",
    "bs_replicates_b = draw_bs_reps(b_shifted , np.mean, n_sim)\n",
    "\n",
    "# Get replicates of difference of means: bs_replicates\n",
    "bs_replicates = bs_replicates_w - bs_replicates_b \n"
   ]
  },
  {
   "cell_type": "code",
   "execution_count": 113,
   "metadata": {},
   "outputs": [
    {
     "data": {
      "image/png": "[encoded data removed]",
      "text/plain": [
       "<Figure size 864x504 with 1 Axes>"
      ]
     },
     "metadata": {},
     "output_type": "display_data"
    }
   ],
   "source": [
    "plt.figure(figsize=(12, 7))\n",
    "_ = sns.distplot(bs_replicates)"
   ]
  },
  {
   "cell_type": "code",
   "execution_count": 123,
   "metadata": {},
   "outputs": [
    {
     "name": "stdout",
     "output_type": "stream",
     "text": [
      "Bootstrap statistic: 0.000\n",
      "Confidence interval of difference of proportions: ( -0.015 , 0.016 )\n"
     ]
    }
   ],
   "source": [
    "# Standard Error is standard deviation of sampling distribution of the bootstrapped replicates (diff of mean here)\n",
    "SE = np.std(bs_replicates)\n",
    "# Margin of Error of Bootstrapped Sample = 2SE -> 95% CI\n",
    "MOE = 2*SE\n",
    "# Mean of the bootstrap distribution\n",
    "bs_mu = np.mean(bs_replicates)\n",
    "# Sample at 2.5%\n",
    "ci_low = bs_mu-MOE\n",
    "# Sample at 97.5%\n",
    "ci_high = bs_mu+MOE\n",
    "\n",
    "print('Bootstrap statistic: %0.3f'% bs_mu)\n",
    "print('Confidence interval of difference of proportions: ( %0.3f'%ci_low, ', %0.3f'%ci_high,')')"
   ]
  },
  {
   "cell_type": "code",
   "execution_count": 132,
   "metadata": {},
   "outputs": [
    {
     "name": "stdout",
     "output_type": "stream",
     "text": [
      "Actual sample difference of means: 0.032 \n",
      "\n",
      " p-value 0.000  suggests that null hypothesis can be rejected.\n"
     ]
    }
   ],
   "source": [
    "# Sample difference of mean\n",
    "sample_diff_mean = np.mean(w_data)-np.mean(b_data)\n",
    "print('Actual sample difference of means: %0.3f '% sample_diff_mean)\n",
    "\n",
    "# Compute and print p-value: p\n",
    "# Distance of sample difference of mean from the bootstrap mean\n",
    "p = (np.sum(bs_replicates <= bs_mu-sample_diff_mean) + np.sum(bs_replicates >= bs_mu+sample_diff_mean))/n_sim\n",
    "\n",
    "if p < alpha:\n",
    "    print('\\n p-value %0.3f'% p,' suggests that null hypothesis can be rejected.')\n",
    "else:\n",
    "    print('\\n p-value %0.3f'% p,' suggests that null hypothesis cannot be rejected.')"
   ]
  },
  {
   "cell_type": "markdown",
   "metadata": {},
   "source": [
    "# Frequentist Statistical Approach\n",
    "\n",
    "For the frequentist approach, since the sample size is large with more than 2000 sample points, z- statistic can provide reliable results for the confidence intervals and p-values. We will test our result using the basic formula approach and the built-in library method.\n",
    "\n",
    "The A/B testing is looking for a significant diffenence between the callback proportions of black- and white-sounding names. Based on CLT we can assume that both distributions are normal and the distribution of the difference is also normal: \n",
    "\n",
    "Normal( (pw-pb), p(1-p)(1/nw + 1/nb) ) where p = (nw x pw + nb x pb)/(nw+nb)"
   ]
  },
  {
   "cell_type": "code",
   "execution_count": 146,
   "metadata": {},
   "outputs": [
    {
     "name": "stdout",
     "output_type": "stream",
     "text": [
      "For the given sample the statistic is: 0.032\n",
      "Confidence interval of difference of proportions: ( 0.017 , 0.047 )\n"
     ]
    }
   ],
   "source": [
    "# Using Basic Formula\n",
    "\n",
    "# Null hypothesis\n",
    "Pw = 0 # Can be any value other can zero. We are interested in (Pw - Pb) = 0\n",
    "Pb = 0 # Can be any value other than zero. We are interested in (Pw - Pb) = 0\n",
    "\n",
    "# If null hypothesis is true, them the standard deviation of differenced sample distribtuion is\n",
    "sig_sample_diff = np.sqrt(2*p_sample*(1-p_sample)/len(w_data))\n",
    "\n",
    "# 95% CI corresponds to z-score of 1.96\n",
    "\n",
    "MOE = 1.96*sig_sample_diff\n",
    "\n",
    "# Null hypothesis statistic: true population proportion difference is zero\n",
    "\n",
    "ci_low, ci_high = (pw_sample-pb_sample)-MOE, (pw_sample-pb_sample)+MOE\n",
    "\n",
    "print('For the given sample the statistic is: %0.3f' %(pw_sample-pb_sample))\n",
    "\n",
    "print('Confidence interval of difference of proportions: ( %0.3f'%ci_low, ', %0.3f'%ci_high,')')\n"
   ]
  },
  {
   "cell_type": "code",
   "execution_count": 153,
   "metadata": {},
   "outputs": [
    {
     "name": "stdout",
     "output_type": "stream",
     "text": [
      "Manual calculation of z: 4.108412\n",
      "Z-score from statsmodels: 4.108412\n",
      "Statsmodels pvalue: 0.000040\n",
      "\n",
      " p-value 0.000  suggests that null hypothesis can be rejected.\n"
     ]
    }
   ],
   "source": [
    "# Z- statistic\n",
    "\n",
    "z = ((pw_sample-pb_sample) - (Pw - Pb))/sig_sample_diff \n",
    "\n",
    "import statsmodels.api as sm\n",
    "zscore, pval = sm.stats.proportions_ztest([sum(w_data), sum(b_data)], [len(w_data), len(b_data)], alternative='two-sided')\n",
    "\n",
    "print('Manual calculation of z: {:.6f}'.format(z))\n",
    "print('Z-score from statsmodels: {:.6f}'.format(zscore))\n",
    "print('Statsmodels pvalue: {:.6f}'.format(pval))\n",
    "\n",
    "if pval < alpha:\n",
    "    print('\\n p-value %0.3f'% pval,' suggests that null hypothesis can be rejected.')\n",
    "else:\n",
    "    print('\\n p-value %0.3f'% pval,' suggests that null hypothesis cannot be rejected.')"
   ]
  },
  {
   "cell_type": "markdown",
   "metadata": {},
   "source": [
    "<div class=\"span5 alert alert-success\">\n",
    "<p>\n",
    "    \n",
    "# Final Conclusions: \n",
    "\n",
    "Both bootstrapped and frequentist approach suggests that the null hypothesis can be rejected as the p-value is lowers than the significance level of 5%. Even though we have a big sample, but it is just one sample of poupulation data.\n",
    "\n",
    "Moreover race is not the only factor ad there were more than 60 feartures for the data. Under such circumstance, rejecting the null hypothesis is not wise choice. In situations like this machine learning (linear regression) might be able to provide better insight into what factors other than race might be contributing to the callback decisions.\n",
    "</p>\n",
    "</div>"
   ]
  },
  {
   "cell_type": "code",
   "execution_count": null,
   "metadata": {},
   "outputs": [],
   "source": []
  }
 ],
 "metadata": {
  "kernelspec": {
   "display_name": "Python 3",
   "language": "python",
   "name": "python3"
  },
  "language_info": {
   "codemirror_mode": {
    "name": "ipython",
    "version": 3
   },
   "file_extension": ".py",
   "mimetype": "text/x-python",
   "name": "python",
   "nbconvert_exporter": "python",
   "pygments_lexer": "ipython3",
   "version": "3.7.1"
  }
 },
 "nbformat": 4,
 "nbformat_minor": 1
}
