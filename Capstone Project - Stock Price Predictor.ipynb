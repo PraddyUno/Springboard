{
 "cells": [
  {
   "cell_type": "markdown",
   "metadata": {},
   "source": [
    "# Stock Price Prediction\n",
    "\n",
    "## Time Series Plots"
   ]
  },
  {
   "cell_type": "code",
   "execution_count": 21,
   "metadata": {
    "collapsed": true
   },
   "outputs": [],
   "source": [
    "import quandl\n",
    "import numpy as np\n",
    "import pandas as pd\n",
    "import matplotlib.pyplot as plt"
   ]
  },
  {
   "cell_type": "code",
   "execution_count": 22,
   "metadata": {
    "collapsed": true
   },
   "outputs": [],
   "source": [
    "oildata = quandl.get('NSE/OIL')"
   ]
  },
  {
   "cell_type": "code",
   "execution_count": 23,
   "metadata": {},
   "outputs": [
    {
     "data": {
      "text/html": [
       "<div>\n",
       "<style scoped>\n",
       "    .dataframe tbody tr th:only-of-type {\n",
       "        vertical-align: middle;\n",
       "    }\n",
       "\n",
       "    .dataframe tbody tr th {\n",
       "        vertical-align: top;\n",
       "    }\n",
       "\n",
       "    .dataframe thead th {\n",
       "        text-align: right;\n",
       "    }\n",
       "</style>\n",
       "<table border=\"1\" class=\"dataframe\">\n",
       "  <thead>\n",
       "    <tr style=\"text-align: right;\">\n",
       "      <th></th>\n",
       "      <th>Open</th>\n",
       "      <th>High</th>\n",
       "      <th>Low</th>\n",
       "      <th>Last</th>\n",
       "      <th>Close</th>\n",
       "      <th>Total Trade Quantity</th>\n",
       "      <th>Turnover (Lacs)</th>\n",
       "    </tr>\n",
       "    <tr>\n",
       "      <th>Date</th>\n",
       "      <th></th>\n",
       "      <th></th>\n",
       "      <th></th>\n",
       "      <th></th>\n",
       "      <th></th>\n",
       "      <th></th>\n",
       "      <th></th>\n",
       "    </tr>\n",
       "  </thead>\n",
       "  <tbody>\n",
       "    <tr>\n",
       "      <th>2009-09-30</th>\n",
       "      <td>1096.0</td>\n",
       "      <td>1156.7</td>\n",
       "      <td>1090.0</td>\n",
       "      <td>1135.00</td>\n",
       "      <td>1141.20</td>\n",
       "      <td>19748012.0</td>\n",
       "      <td>223877.07</td>\n",
       "    </tr>\n",
       "    <tr>\n",
       "      <th>2009-10-01</th>\n",
       "      <td>1102.0</td>\n",
       "      <td>1173.7</td>\n",
       "      <td>1102.0</td>\n",
       "      <td>1167.00</td>\n",
       "      <td>1166.35</td>\n",
       "      <td>3074254.0</td>\n",
       "      <td>35463.78</td>\n",
       "    </tr>\n",
       "    <tr>\n",
       "      <th>2009-10-05</th>\n",
       "      <td>1152.0</td>\n",
       "      <td>1165.9</td>\n",
       "      <td>1136.6</td>\n",
       "      <td>1143.00</td>\n",
       "      <td>1140.55</td>\n",
       "      <td>919832.0</td>\n",
       "      <td>10581.13</td>\n",
       "    </tr>\n",
       "    <tr>\n",
       "      <th>2009-10-06</th>\n",
       "      <td>1149.8</td>\n",
       "      <td>1157.2</td>\n",
       "      <td>1132.1</td>\n",
       "      <td>1143.30</td>\n",
       "      <td>1144.90</td>\n",
       "      <td>627957.0</td>\n",
       "      <td>7185.90</td>\n",
       "    </tr>\n",
       "    <tr>\n",
       "      <th>2009-10-07</th>\n",
       "      <td>1153.8</td>\n",
       "      <td>1160.7</td>\n",
       "      <td>1140.0</td>\n",
       "      <td>1141.45</td>\n",
       "      <td>1141.60</td>\n",
       "      <td>698216.0</td>\n",
       "      <td>8032.98</td>\n",
       "    </tr>\n",
       "  </tbody>\n",
       "</table>\n",
       "</div>"
      ],
      "text/plain": [
       "              Open    High     Low     Last    Close  Total Trade Quantity  \\\n",
       "Date                                                                         \n",
       "2009-09-30  1096.0  1156.7  1090.0  1135.00  1141.20            19748012.0   \n",
       "2009-10-01  1102.0  1173.7  1102.0  1167.00  1166.35             3074254.0   \n",
       "2009-10-05  1152.0  1165.9  1136.6  1143.00  1140.55              919832.0   \n",
       "2009-10-06  1149.8  1157.2  1132.1  1143.30  1144.90              627957.0   \n",
       "2009-10-07  1153.8  1160.7  1140.0  1141.45  1141.60              698216.0   \n",
       "\n",
       "            Turnover (Lacs)  \n",
       "Date                         \n",
       "2009-09-30        223877.07  \n",
       "2009-10-01         35463.78  \n",
       "2009-10-05         10581.13  \n",
       "2009-10-06          7185.90  \n",
       "2009-10-07          8032.98  "
      ]
     },
     "execution_count": 23,
     "metadata": {},
     "output_type": "execute_result"
    }
   ],
   "source": [
    "oildata.head()"
   ]
  },
  {
   "cell_type": "code",
   "execution_count": 31,
   "metadata": {},
   "outputs": [
    {
     "name": "stdout",
     "output_type": "stream",
     "text": [
      "<class 'pandas.core.frame.DataFrame'>\n",
      "DatetimeIndex: 2271 entries, 2009-09-30 to 2018-11-26\n",
      "Data columns (total 7 columns):\n",
      "Open                    2271 non-null float64\n",
      "High                    2271 non-null float64\n",
      "Low                     2271 non-null float64\n",
      "Last                    2271 non-null float64\n",
      "Close                   2271 non-null float64\n",
      "Total Trade Quantity    2271 non-null float64\n",
      "Turnover (Lacs)         2271 non-null float64\n",
      "dtypes: float64(7)\n",
      "memory usage: 221.9 KB\n"
     ]
    }
   ],
   "source": [
    "oildata.info()"
   ]
  },
  {
   "cell_type": "code",
   "execution_count": 48,
   "metadata": {},
   "outputs": [
    {
     "data": {
      "text/plain": [
       "DatetimeIndexResampler [freq=<YearEnd: month=12>, axis=0, closed=right, label=right, convention=start, base=0]"
      ]
     },
     "execution_count": 48,
     "metadata": {},
     "output_type": "execute_result"
    }
   ],
   "source": [
    "r_oildata = oildata.reset_index()\n",
    "oildata['Total Trade Quantity'].resample('A')\n",
    "#plot()\n",
    "#plt.ylabel('Oil Stock Log (Volume)')\n",
    "#plt.show()\n"
   ]
  },
  {
   "cell_type": "code",
   "execution_count": 30,
   "metadata": {},
   "outputs": [
    {
     "data": {
      "text/html": [
       "<div>\n",
       "<style scoped>\n",
       "    .dataframe tbody tr th:only-of-type {\n",
       "        vertical-align: middle;\n",
       "    }\n",
       "\n",
       "    .dataframe tbody tr th {\n",
       "        vertical-align: top;\n",
       "    }\n",
       "\n",
       "    .dataframe thead th {\n",
       "        text-align: right;\n",
       "    }\n",
       "</style>\n",
       "<table border=\"1\" class=\"dataframe\">\n",
       "  <thead>\n",
       "    <tr style=\"text-align: right;\">\n",
       "      <th></th>\n",
       "      <th>Open</th>\n",
       "      <th>High</th>\n",
       "      <th>Low</th>\n",
       "      <th>Last</th>\n",
       "      <th>Close</th>\n",
       "      <th>Total Trade Quantity</th>\n",
       "      <th>Turnover (Lacs)</th>\n",
       "    </tr>\n",
       "  </thead>\n",
       "  <tbody>\n",
       "    <tr>\n",
       "      <th>count</th>\n",
       "      <td>2271.000000</td>\n",
       "      <td>2271.000000</td>\n",
       "      <td>2271.000000</td>\n",
       "      <td>2271.000000</td>\n",
       "      <td>2271.000000</td>\n",
       "      <td>2.271000e+03</td>\n",
       "      <td>2271.000000</td>\n",
       "    </tr>\n",
       "    <tr>\n",
       "      <th>mean</th>\n",
       "      <td>657.333443</td>\n",
       "      <td>666.695707</td>\n",
       "      <td>648.174857</td>\n",
       "      <td>656.739960</td>\n",
       "      <td>656.807904</td>\n",
       "      <td>3.966499e+05</td>\n",
       "      <td>1873.164055</td>\n",
       "    </tr>\n",
       "    <tr>\n",
       "      <th>std</th>\n",
       "      <td>400.016431</td>\n",
       "      <td>406.511080</td>\n",
       "      <td>394.628845</td>\n",
       "      <td>400.134994</td>\n",
       "      <td>400.166816</td>\n",
       "      <td>6.674977e+05</td>\n",
       "      <td>5208.779515</td>\n",
       "    </tr>\n",
       "    <tr>\n",
       "      <th>min</th>\n",
       "      <td>186.600000</td>\n",
       "      <td>195.400000</td>\n",
       "      <td>181.000000</td>\n",
       "      <td>187.400000</td>\n",
       "      <td>186.900000</td>\n",
       "      <td>1.921000e+03</td>\n",
       "      <td>21.520000</td>\n",
       "    </tr>\n",
       "    <tr>\n",
       "      <th>25%</th>\n",
       "      <td>369.075000</td>\n",
       "      <td>373.650000</td>\n",
       "      <td>364.000000</td>\n",
       "      <td>368.950000</td>\n",
       "      <td>368.800000</td>\n",
       "      <td>9.717750e+04</td>\n",
       "      <td>702.585000</td>\n",
       "    </tr>\n",
       "    <tr>\n",
       "      <th>50%</th>\n",
       "      <td>479.300000</td>\n",
       "      <td>484.500000</td>\n",
       "      <td>472.500000</td>\n",
       "      <td>478.050000</td>\n",
       "      <td>477.950000</td>\n",
       "      <td>2.579160e+05</td>\n",
       "      <td>1251.660000</td>\n",
       "    </tr>\n",
       "    <tr>\n",
       "      <th>75%</th>\n",
       "      <td>1137.525000</td>\n",
       "      <td>1154.750000</td>\n",
       "      <td>1125.000000</td>\n",
       "      <td>1141.725000</td>\n",
       "      <td>1141.325000</td>\n",
       "      <td>5.041550e+05</td>\n",
       "      <td>2133.045000</td>\n",
       "    </tr>\n",
       "    <tr>\n",
       "      <th>max</th>\n",
       "      <td>1604.000000</td>\n",
       "      <td>1630.000000</td>\n",
       "      <td>1585.000000</td>\n",
       "      <td>1624.000000</td>\n",
       "      <td>1619.950000</td>\n",
       "      <td>1.974801e+07</td>\n",
       "      <td>223877.070000</td>\n",
       "    </tr>\n",
       "  </tbody>\n",
       "</table>\n",
       "</div>"
      ],
      "text/plain": [
       "              Open         High          Low         Last        Close  \\\n",
       "count  2271.000000  2271.000000  2271.000000  2271.000000  2271.000000   \n",
       "mean    657.333443   666.695707   648.174857   656.739960   656.807904   \n",
       "std     400.016431   406.511080   394.628845   400.134994   400.166816   \n",
       "min     186.600000   195.400000   181.000000   187.400000   186.900000   \n",
       "25%     369.075000   373.650000   364.000000   368.950000   368.800000   \n",
       "50%     479.300000   484.500000   472.500000   478.050000   477.950000   \n",
       "75%    1137.525000  1154.750000  1125.000000  1141.725000  1141.325000   \n",
       "max    1604.000000  1630.000000  1585.000000  1624.000000  1619.950000   \n",
       "\n",
       "       Total Trade Quantity  Turnover (Lacs)  \n",
       "count          2.271000e+03      2271.000000  \n",
       "mean           3.966499e+05      1873.164055  \n",
       "std            6.674977e+05      5208.779515  \n",
       "min            1.921000e+03        21.520000  \n",
       "25%            9.717750e+04       702.585000  \n",
       "50%            2.579160e+05      1251.660000  \n",
       "75%            5.041550e+05      2133.045000  \n",
       "max            1.974801e+07    223877.070000  "
      ]
     },
     "execution_count": 30,
     "metadata": {},
     "output_type": "execute_result"
    }
   ],
   "source": [
    "oildata.describe()"
   ]
  },
  {
   "cell_type": "code",
   "execution_count": null,
   "metadata": {
    "collapsed": true
   },
   "outputs": [],
   "source": [
    "oildata['Total Trafe']"
   ]
  },
  {
   "cell_type": "code",
   "execution_count": null,
   "metadata": {
    "collapsed": true
   },
   "outputs": [],
   "source": []
  },
  {
   "cell_type": "code",
   "execution_count": null,
   "metadata": {
    "collapsed": true
   },
   "outputs": [],
   "source": []
  },
  {
   "cell_type": "code",
   "execution_count": null,
   "metadata": {
    "collapsed": true
   },
   "outputs": [],
   "source": []
  },
  {
   "cell_type": "code",
   "execution_count": null,
   "metadata": {
    "collapsed": true
   },
   "outputs": [],
   "source": []
  },
  {
   "cell_type": "code",
   "execution_count": null,
   "metadata": {
    "collapsed": true
   },
   "outputs": [],
   "source": []
  }
 ],
 "metadata": {
  "kernelspec": {
   "display_name": "Python 3",
   "language": "python",
   "name": "python3"
  },
  "language_info": {
   "codemirror_mode": {
    "name": "ipython",
    "version": 3
   },
   "file_extension": ".py",
   "mimetype": "text/x-python",
   "name": "python",
   "nbconvert_exporter": "python",
   "pygments_lexer": "ipython3",
   "version": "3.6.3"
  }
 },
 "nbformat": 4,
 "nbformat_minor": 2
}
